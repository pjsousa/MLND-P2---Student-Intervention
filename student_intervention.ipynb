{
 "cells": [
  {
   "cell_type": "markdown",
   "metadata": {},
   "source": [
    "# Machine Learning Engineer Nanodegree\n",
    "## Supervised Learning\n",
    "## Project 2: Building a Student Intervention System"
   ]
  },
  {
   "cell_type": "markdown",
   "metadata": {},
   "source": [
    "Welcome to the second project of the Machine Learning Engineer Nanodegree! In this notebook, some template code has already been provided for you, and it will be your job to implement the additional functionality necessary to successfully complete this project. Sections that begin with **'Implementation'** in the header indicate that the following block of code will require additional functionality which you must provide. Instructions will be provided for each section and the specifics of the implementation are marked in the code block with a `'TODO'` statement. Please be sure to read the instructions carefully!\n",
    "\n",
    "In addition to implementing code, there will be questions that you must answer which relate to the project and your implementation. Each section where you will answer a question is preceded by a **'Question X'** header. Carefully read each question and provide thorough answers in the following text boxes that begin with **'Answer:'**. Your project submission will be evaluated based on your answers to each of the questions and the implementation you provide.  \n",
    "\n",
    ">**Note:** Code and Markdown cells can be executed using the **Shift + Enter** keyboard shortcut. In addition, Markdown cells can be edited by typically double-clicking the cell to enter edit mode.\n",
    "\n",
    "<p></p>\n",
    ">**Note:** In order to not clog the notebook too much, I wrote an external script to help me with some visualisations (both the markdown tables and also some charts that I build).\n",
    "I also did some changes to pre-given functions in the \"Setup\" section in order to make those visualisations.\n",
    "Also, I have to admit that this project took me quite some time to make some sense of the f1 scores. So, I'm not 100% sure about all of my reasonings.\n",
    "\n",
    "<p></p>\n",
    ">**Note:** This will be my second submission. On my first review, I got a mix of specification met and suggestion to further develop my answers.\n",
    " - **These DID NOT meet specification**\n",
    "   - [Model in Layman's Terms](#Question-4---Model-in-Layman's-Terms)\n",
    "   - [Implementation: Model Performance Metrics](#Implementation:-Model-Performance-Metrics)\n",
    " - **These met specification** but I went on for the \"pro tips\"\n",
    "   - [Implementation: Data Exploration](#Implementation:-Data-Exploration)\n",
    "   - [Implementation: Training and Testing Data Split](#Implementation:-Training-and-Testing-Data-Split) \n",
    "   - [Model Application](#Question-2---Model-Application)\n",
    " "
   ]
  },
  {
   "cell_type": "markdown",
   "metadata": {},
   "source": [
    "### Question 1 - Classification vs. Regression\n",
    "*Your goal for this project is to identify students who might need early intervention before they fail to graduate. Which type of supervised learning problem is this, classification or regression? Why?*"
   ]
  },
  {
   "cell_type": "markdown",
   "metadata": {},
   "source": [
    "**Answer: ** Since we are just trying to figure out if the student will \"FAIL\" or \"NOT FAIL\" we will be treating this as a classification problem for which we'll just want to predict and act based on those two labels (FAIL/NOT FAIL). \n",
    "\n",
    "If we were trying to predict the \"risk\" that a student has to fail. Say, a risk factor from -1 to 1. In that scenario, it would be a regression problem. \n",
    "\n",
    "This second scenario would be a much richer one:\n",
    "- we would still have the same \"feel\" as in the classification labels given by the output's signal (negative value is perceived as no risk, positive value as risk)\n",
    "- we would be able to figure out, from those in risk, whose were in more risk than the others\n",
    "- these would also let us better tune our model if future iterations. Since we could then understand in which risk ranges the model performed better (or even ourselves were better suited to interveen)\n",
    "\n"
   ]
  },
  {
   "cell_type": "markdown",
   "metadata": {},
   "source": [
    "## Exploring the Data\n",
    "Run the code cell below to load necessary Python libraries and load the student data. Note that the last column from this dataset, `'passed'`, will be our target label (whether the student graduated or didn't graduate). All other columns are features about each student."
   ]
  },
  {
   "cell_type": "code",
   "execution_count": 2,
   "metadata": {
    "collapsed": false
   },
   "outputs": [
    {
     "name": "stdout",
     "output_type": "stream",
     "text": [
      "Student data read successfully!\n"
     ]
    }
   ],
   "source": [
    "# Import libraries\n",
    "import numpy as np\n",
    "import pandas as pd\n",
    "from time import time\n",
    "from sklearn.metrics import f1_score\n",
    "import matplotlib.pyplot as plt\n",
    "import seaborn as sns\n",
    "import math\n",
    "\n",
    "\n",
    "# in order for the Graduation rate not looking funny in python 2\n",
    "from __future__ import division\n",
    "\n",
    "# Read student data\n",
    "student_data = pd.read_csv(\"student-data.csv\")\n",
    "print \"Student data read successfully!\"\n",
    "\n",
    "# to help me creating the data grids\n",
    "from IPython.core.display import Markdown\n",
    "import util_markdown as utilm\n",
    "\n",
    "%matplotlib inline"
   ]
  },
  {
   "cell_type": "markdown",
   "metadata": {},
   "source": [
    "### Implementation: Data Exploration\n",
    "Let's begin by investigating the dataset to determine how many students we have information on, and learn about the graduation rate among these students. In the code cell below, you will need to compute the following:\n",
    "- The total number of students, `n_students`.\n",
    "- The total number of features for each student, `n_features`.\n",
    "- The number of those students who passed, `n_passed`.\n",
    "- The number of those students who failed, `n_failed`.\n",
    "- The graduation rate of the class, `grad_rate`, in percent (%).\n"
   ]
  },
  {
   "cell_type": "code",
   "execution_count": 3,
   "metadata": {
    "collapsed": false
   },
   "outputs": [
    {
     "name": "stdout",
     "output_type": "stream",
     "text": [
      "Frame shape: (395, 31)\n",
      "Distinct 'passed': ['no' 'yes']\n"
     ]
    }
   ],
   "source": [
    "#print student_data.info()\n",
    "#print \"\"\n",
    "#print \"\"\n",
    "print \"Frame shape: {}\".format(student_data.shape)\n",
    "print \"Distinct 'passed': {}\".format(student_data[\"passed\"].unique()) ## ['no' 'yes'] - this shows us we dont's have nulls in the column\n"
   ]
  },
  {
   "cell_type": "code",
   "execution_count": 4,
   "metadata": {
    "collapsed": false
   },
   "outputs": [
    {
     "name": "stdout",
     "output_type": "stream",
     "text": [
      "Total number of students: 395\n",
      "Number of features: 30\n",
      "Number of students who passed: 265\n",
      "Number of students who failed: 130\n",
      "Graduation rate of the class: 67.09%\n"
     ]
    }
   ],
   "source": [
    "# Calculate number of students\n",
    "n_students = len(student_data.index)\n",
    "\n",
    "# Calculate number of features\n",
    "n_features = len(student_data.columns) - 1 \n",
    "\n",
    "# Calculate passing students\n",
    "n_passed = len(student_data[student_data[\"passed\"] == \"yes\"].index)\n",
    "\n",
    "# Calculate failing students\n",
    "n_failed = n_students - n_passed\n",
    "##    for n_failed, since we only have 'yes' and 'no' we can do it this way. if we had some other values we would have to\n",
    "## do another filter on the dataframe. something like len(student_data[student_data[\"passed\"] == \"no\"].index) \n",
    "\n",
    "# Calculate graduation rate\n",
    "grad_rate = n_passed / n_students * 100\n",
    "## I am not sure about this \"* 100\", since we are being asked a rate but then the output is preformated with a percentage...\n",
    "\n",
    "# Print the results\n",
    "print \"Total number of students: {}\".format(n_students)\n",
    "print \"Number of features: {}\".format(n_features)\n",
    "print \"Number of students who passed: {}\".format(n_passed)\n",
    "print \"Number of students who failed: {}\".format(n_failed)\n",
    "print \"Graduation rate of the class: {:.2f}%\".format(grad_rate)"
   ]
  },
  {
   "cell_type": "markdown",
   "metadata": {},
   "source": [
    "## Preparing the Data\n",
    "In this section, we will prepare the data for modeling, training and testing.\n",
    "\n",
    "### Identify feature and target columns\n",
    "It is often the case that the data you obtain contains non-numeric features. This can be a problem, as most machine learning algorithms expect numeric data to perform computations with.\n",
    "\n",
    "Run the code cell below to separate the student data into feature and target columns to see if any features are non-numeric."
   ]
  },
  {
   "cell_type": "code",
   "execution_count": 5,
   "metadata": {
    "collapsed": false
   },
   "outputs": [
    {
     "name": "stdout",
     "output_type": "stream",
     "text": [
      "Feature columns:\n",
      "['school', 'sex', 'age', 'address', 'famsize', 'Pstatus', 'Medu', 'Fedu', 'Mjob', 'Fjob', 'reason', 'guardian', 'traveltime', 'studytime', 'failures', 'schoolsup', 'famsup', 'paid', 'activities', 'nursery', 'higher', 'internet', 'romantic', 'famrel', 'freetime', 'goout', 'Dalc', 'Walc', 'health', 'absences']\n",
      "\n",
      "Target column: passed\n",
      "\n",
      "Feature values:\n",
      "  school sex  age address famsize Pstatus  Medu  Fedu     Mjob      Fjob  \\\n",
      "0     GP   F   18       U     GT3       A     4     4  at_home   teacher   \n",
      "1     GP   F   17       U     GT3       T     1     1  at_home     other   \n",
      "2     GP   F   15       U     LE3       T     1     1  at_home     other   \n",
      "3     GP   F   15       U     GT3       T     4     2   health  services   \n",
      "4     GP   F   16       U     GT3       T     3     3    other     other   \n",
      "\n",
      "    ...    higher internet  romantic  famrel  freetime goout Dalc Walc health  \\\n",
      "0   ...       yes       no        no       4         3     4    1    1      3   \n",
      "1   ...       yes      yes        no       5         3     3    1    1      3   \n",
      "2   ...       yes      yes        no       4         3     2    2    3      3   \n",
      "3   ...       yes      yes       yes       3         2     2    1    1      5   \n",
      "4   ...       yes       no        no       4         3     2    1    2      5   \n",
      "\n",
      "  absences  \n",
      "0        6  \n",
      "1        4  \n",
      "2       10  \n",
      "3        2  \n",
      "4        4  \n",
      "\n",
      "[5 rows x 30 columns]\n"
     ]
    }
   ],
   "source": [
    "# Extract feature columns\n",
    "feature_cols = list(student_data.columns[:-1])\n",
    "\n",
    "# Extract target column 'passed'\n",
    "target_col = student_data.columns[-1] \n",
    "\n",
    "# Show the list of columns\n",
    "print \"Feature columns:\\n{}\".format(feature_cols)\n",
    "print \"\\nTarget column: {}\".format(target_col)\n",
    "\n",
    "# Separate the data into feature data and target data (X_all and y_all, respectively)\n",
    "X_all = student_data[feature_cols]\n",
    "y_all = student_data[target_col]\n",
    "\n",
    "# Show the feature information by printing the first five rows\n",
    "print \"\\nFeature values:\"\n",
    "print X_all.head()"
   ]
  },
  {
   "cell_type": "code",
   "execution_count": 6,
   "metadata": {
    "collapsed": false,
    "scrolled": false
   },
   "outputs": [
    {
     "name": "stdout",
     "output_type": "stream",
     "text": [
      "Distinct values for school: ['GP' 'MS']\n",
      "Distinct values for sex: ['F' 'M']\n",
      "Distinct values for address: ['U' 'R']\n",
      "Distinct values for famsize: ['GT3' 'LE3']\n",
      "Distinct values for Pstatus: ['A' 'T']\n",
      "Distinct values for Mjob: ['at_home' 'health' 'other' 'services' 'teacher']\n",
      "Distinct values for Fjob: ['teacher' 'other' 'services' 'health' 'at_home']\n",
      "Distinct values for reason: ['course' 'other' 'home' 'reputation']\n",
      "Distinct values for guardian: ['mother' 'father' 'other']\n",
      "Distinct values for schoolsup: ['yes' 'no']\n",
      "Distinct values for famsup: ['no' 'yes']\n",
      "Distinct values for paid: ['no' 'yes']\n",
      "Distinct values for activities: ['no' 'yes']\n",
      "Distinct values for nursery: ['yes' 'no']\n",
      "Distinct values for higher: ['yes' 'no']\n",
      "Distinct values for internet: ['no' 'yes']\n",
      "Distinct values for romantic: ['no' 'yes']\n",
      "\n",
      "Distinct values for passed: ['no' 'yes']\n",
      "\n",
      "Range values for age: [15,22]\n",
      "Range values for Medu: [0,4]\n",
      "Range values for Fedu: [0,4]\n",
      "Range values for traveltime: [1,4]\n",
      "Range values for studytime: [1,4]\n",
      "Range values for failures: [0,3]\n",
      "Range values for famrel: [1,5]\n",
      "Range values for freetime: [1,5]\n",
      "Range values for goout: [1,5]\n",
      "Range values for Dalc: [1,5]\n",
      "Range values for Walc: [1,5]\n",
      "Range values for health: [1,5]\n",
      "Range values for absences: [0,75]\n"
     ]
    }
   ],
   "source": [
    "## lets run this to see if we have any weird values\n",
    "##\n",
    "\n",
    "numerics = ['int16', 'int32', 'int64', 'float16', 'float32', 'float64']\n",
    "\n",
    "for col in feature_cols:\n",
    "    if(student_data[col].dtype == \"object\"):\n",
    "        print \"Distinct values for {}: {}\".format(col, student_data[col].unique())\n",
    "\n",
    "print \"\"\n",
    "print \"Distinct values for {}: {}\".format(target_col, student_data[target_col].unique())\n",
    "print \"\"\n",
    "        \n",
    "for col in feature_cols:\n",
    "    if student_data[col].dtype in numerics:\n",
    "        print \"Range values for {}: [{},{}]\".format(col, student_data[col].min(), student_data[col].max())\n",
    "\n"
   ]
  },
  {
   "cell_type": "code",
   "execution_count": 7,
   "metadata": {
    "collapsed": false,
    "scrolled": false
   },
   "outputs": [
    {
     "data": {
      "text/plain": [
       "<matplotlib.text.Text at 0x7fd009433e10>"
      ]
     },
     "execution_count": 7,
     "metadata": {},
     "output_type": "execute_result"
    },
    {
     "data": {
      "image/png": "[encoded data removed]",
      "text/plain": [
       "<matplotlib.figure.Figure at 0x7fd00bd23b10>"
      ]
     },
     "metadata": {},
     "output_type": "display_data"
    },
    {
     "data": {
      "image/png": "[encoded data removed]",
      "text/plain": [
       "<matplotlib.figure.Figure at 0x7fd00bd23ad0>"
      ]
     },
     "metadata": {},
     "output_type": "display_data"
    },
    {
     "data": {
      "image/png": "[encoded data removed]",
      "text/plain": [
       "<matplotlib.figure.Figure at 0x7fd009585910>"
      ]
     },
     "metadata": {},
     "output_type": "display_data"
    }
   ],
   "source": [
    "## even though we have some numeric data, it seems to be mostly discrete\n",
    "## lets further look into it...\n",
    "\n",
    "## I realized I became aware of the dataset imbalance from the foruns and slack conversations but never got to look into it\n",
    "## For my second submission, lets add a chart to see our dataset imbalance...\n",
    "fig, axes = plt.subplots(nrows=1, ncols=1, figsize=[12.3,2], squeeze=False)\n",
    "student_data[\"passed\"].value_counts().plot(kind=\"barh\", ax=axes[0,0], color=sns.color_palette(\"deep\")); axes[0,0].set_title('\\'Passed\\' Proportions')\n",
    "\n",
    "fig, axes = plt.subplots(nrows=2, ncols=2, figsize=[12,11], squeeze=True)\n",
    "sns.countplot(student_data[\"age\"], ax=axes[0,0]);      axes[0,0].set_title('Ages histogram')\n",
    "sns.countplot(student_data[\"failures\"], ax=axes[0,1]); axes[0,1].set_title('Failures Histogram')\n",
    "sns.countplot(student_data[\"Medu\"], ax=axes[1,0]);     axes[1,0].set_title('Medu Histogram')\n",
    "sns.countplot(student_data[\"Fedu\"], ax=axes[1,1]);     axes[1,1].set_title('Fedu Histogram')\n",
    "\n",
    "fig, axes = plt.subplots(nrows=1, ncols=1, figsize=[12,5], squeeze=False)\n",
    "sns.countplot(student_data[\"absences\"], ax=axes[0,0]); axes[0,0].set_title('Absences Histogram')\n",
    "\n"
   ]
  },
  {
   "cell_type": "code",
   "execution_count": 8,
   "metadata": {
    "collapsed": false
   },
   "outputs": [
    {
     "name": "stdout",
     "output_type": "stream",
     "text": [
      "Distinct values for age: [18 17 15 16 19 22 20 21]\n",
      "Distinct values for Medu: [4 1 3 2 0]\n",
      "Distinct values for Fedu: [4 1 2 3 0]\n",
      "Distinct values for traveltime: [2 1 3 4]\n",
      "Distinct values for studytime: [2 3 1 4]\n",
      "Distinct values for failures: [0 3 2 1]\n",
      "Distinct values for famrel: [4 5 3 1 2]\n",
      "Distinct values for freetime: [3 2 4 1 5]\n",
      "Distinct values for goout: [4 3 2 1 5]\n",
      "Distinct values for Dalc: [1 2 5 3 4]\n",
      "Distinct values for Walc: [1 3 2 4 5]\n",
      "Distinct values for health: [3 5 1 2 4]\n",
      "Distinct values for absences: [ 6  4 10  2  0 16 14  7  8 25 12 54 18 26 20 56 24 28  5 13 15 22  3 21  1\n",
      " 75 30 19  9 11 38 40 23 17]\n"
     ]
    }
   ],
   "source": [
    "## looks like it is. lets also call 'unique' on them\n",
    "\n",
    "for col in feature_cols:\n",
    "    if student_data[col].dtype in numerics:\n",
    "        print \"Distinct values for {}: {}\".format(col, student_data[col].unique())\n"
   ]
  },
  {
   "cell_type": "markdown",
   "metadata": {},
   "source": [
    "### Preprocess Feature Columns\n",
    "\n",
    "As you can see, there are several non-numeric columns that need to be converted! Many of them are simply `yes`/`no`, e.g. `internet`. These can be reasonably converted into `1`/`0` (binary) values.\n",
    "\n",
    "Other columns, like `Mjob` and `Fjob`, have more than two values, and are known as _categorical variables_. The recommended way to handle such a column is to create as many columns as possible values (e.g. `Fjob_teacher`, `Fjob_other`, `Fjob_services`, etc.), and assign a `1` to one of them and `0` to all others.\n",
    "\n",
    "These generated columns are sometimes called _dummy variables_, and we will use the [`pandas.get_dummies()`](http://pandas.pydata.org/pandas-docs/stable/generated/pandas.get_dummies.html?highlight=get_dummies#pandas.get_dummies) function to perform this transformation. Run the code cell below to perform the preprocessing routine discussed in this section."
   ]
  },
  {
   "cell_type": "code",
   "execution_count": 9,
   "metadata": {
    "collapsed": false
   },
   "outputs": [
    {
     "name": "stdout",
     "output_type": "stream",
     "text": [
      "Processed feature columns (48 total features):\n",
      "['school_GP', 'school_MS', 'sex_F', 'sex_M', 'age', 'address_R', 'address_U', 'famsize_GT3', 'famsize_LE3', 'Pstatus_A', 'Pstatus_T', 'Medu', 'Fedu', 'Mjob_at_home', 'Mjob_health', 'Mjob_other', 'Mjob_services', 'Mjob_teacher', 'Fjob_at_home', 'Fjob_health', 'Fjob_other', 'Fjob_services', 'Fjob_teacher', 'reason_course', 'reason_home', 'reason_other', 'reason_reputation', 'guardian_father', 'guardian_mother', 'guardian_other', 'traveltime', 'studytime', 'failures', 'schoolsup', 'famsup', 'paid', 'activities', 'nursery', 'higher', 'internet', 'romantic', 'famrel', 'freetime', 'goout', 'Dalc', 'Walc', 'health', 'absences']\n"
     ]
    }
   ],
   "source": [
    "def preprocess_features(X):\n",
    "    ''' Preprocesses the student data and converts non-numeric binary variables into\n",
    "        binary (0/1) variables. Converts categorical variables into dummy variables. '''\n",
    "    \n",
    "    # Initialize new output DataFrame\n",
    "    output = pd.DataFrame(index = X.index)\n",
    "\n",
    "    # Investigate each feature column for the data\n",
    "    for col, col_data in X.iteritems():\n",
    "        \n",
    "        # If data type is non-numeric, replace all yes/no values with 1/0\n",
    "        if col_data.dtype == object:\n",
    "            col_data = col_data.replace(['yes', 'no'], [1, 0])\n",
    "\n",
    "        # If data type is categorical, convert to dummy variables\n",
    "        if col_data.dtype == object:\n",
    "            # Example: 'school' => 'school_GP' and 'school_MS'\n",
    "            col_data = pd.get_dummies(col_data, prefix = col)  \n",
    "        \n",
    "        # Collect the revised columns\n",
    "        output = output.join(col_data)\n",
    "    \n",
    "    return output\n",
    "\n",
    "X_all = preprocess_features(X_all)\n",
    "print \"Processed feature columns ({} total features):\\n{}\".format(len(X_all.columns), list(X_all.columns))"
   ]
  },
  {
   "cell_type": "markdown",
   "metadata": {},
   "source": [
    "### Implementation: Training and Testing Data Split\n",
    "So far, we have converted all _categorical_ features into numeric values. For the next step, we split the data (both features and corresponding labels) into training and test sets. In the following code cell below, you will need to implement the following:\n",
    "- Randomly shuffle and split the data (`X_all`, `y_all`) into training and testing subsets.\n",
    "  - Use 300 training points (approximately 75%) and 95 testing points (approximately 25%).\n",
    "  - Set a `random_state` for the function(s) you use, if provided.\n",
    "  - Store the results in `X_train`, `X_test`, `y_train`, and `y_test`."
   ]
  },
  {
   "cell_type": "code",
   "execution_count": 10,
   "metadata": {
    "collapsed": false
   },
   "outputs": [
    {
     "name": "stdout",
     "output_type": "stream",
     "text": [
      "Training set has 300 samples.\n",
      "Testing set has 95 samples.\n"
     ]
    }
   ],
   "source": [
    "# Import any additional functionality you may need here\n",
    "from sklearn.cross_validation import train_test_split\n",
    "\n",
    "# Set the number of training points\n",
    "num_train = 300\n",
    "\n",
    "# Set the number of testing points\n",
    "num_test = X_all.shape[0] - num_train\n",
    "\n",
    "X_train = None\n",
    "X_test = None\n",
    "y_train = None\n",
    "y_test = None\n",
    "\n",
    "\n",
    "##  \n",
    "##   After the sugestion in my first Projection Review, I added stratify = y_all for my second submission\n",
    "X_train, X_test, y_train, y_test = train_test_split(X_all, y_all, stratify = y_all, train_size=num_train, test_size=num_test, random_state=161029)\n",
    "\n",
    "# Show the results of the split\n",
    "print \"Training set has {} samples.\".format(X_train.shape[0])\n",
    "print \"Testing set has {} samples.\".format(X_test.shape[0])"
   ]
  },
  {
   "cell_type": "markdown",
   "metadata": {},
   "source": [
    "## Training and Evaluating Models\n",
    "In this section, you will choose 3 supervised learning models that are appropriate for this problem and available in `scikit-learn`. You will first discuss the reasoning behind choosing these three models by considering what you know about the data and each model's strengths and weaknesses. You will then fit the model to varying sizes of training data (100 data points, 200 data points, and 300 data points) and measure the F<sub>1</sub> score. You will need to produce three tables (one for each model) that shows the training set size, training time, prediction time, F<sub>1</sub> score on the training set, and F<sub>1</sub> score on the testing set.\n",
    "\n",
    "**The following supervised learning models are currently available in** [`scikit-learn`](http://scikit-learn.org/stable/supervised_learning.html) **that you may choose from:**\n",
    "- Gaussian Naive Bayes (GaussianNB)\n",
    "- Decision Trees\n",
    "- Ensemble Methods (Bagging, AdaBoost, Random Forest, Gradient Boosting)\n",
    "- K-Nearest Neighbors (KNeighbors)\n",
    "- Stochastic Gradient Descent (SGDC)\n",
    "- Support Vector Machines (SVM)\n",
    "- Logistic Regression"
   ]
  },
  {
   "cell_type": "markdown",
   "metadata": {},
   "source": [
    "### Question 2 - Model Application\n",
    "*List three supervised learning models that are appropriate for this problem. For each model chosen*\n",
    "- Describe one real-world application in industry where the model can be applied. *(You may need to do a small bit of research for this — give references!)* \n",
    "- What are the strengths of the model; when does it perform well? \n",
    "- What are the weaknesses of the model; when does it perform poorly?\n",
    "- What makes this model a good candidate for the problem, given what you know about the data?"
   ]
  },
  {
   "cell_type": "markdown",
   "metadata": {},
   "source": [
    "**Answer: ** \n",
    "\n",
    ">**Note:** For this answer I had to revisit some of the lessons and also read a bit about Random Forests. With all that 'side-research' I came up with a matrix (with refs) that I compiled into [a google spreadsheet](https://docs.google.com/spreadsheets/d/1STvCecX3y7Kc0-3ArLg_U2KtsV8sGxY7u7jWWniT2ww/edit#gid=0).\n",
    "\n",
    "In the first project review, my reviewer pointed out the [scikit learn's flowchart](http://scikit-learn.org/stable/tutorial/machine_learning_map/) for choosing the right estimator. I have to admit that I did come across it during my initial research, but then, after compiling the spreadsheet linked above, my reasoning was to go for ensemble methods (since this was the first time I came accross them and wanted to use them, and also because they seem to be less prone to overfit, which might be an extra plus in our small dataset) and then chose SVM because of its similarity to adaboost in the sense that as it gets more and more data it keeps optimizing the margin and not necessarily learning the data.\n",
    "\n",
    "\n",
    "Now, about the flowchart:\n",
    "<img src=\"http://scikit-learn.org/stable/_static/ml_map.png\"/>\n",
    "\n",
    "- we have more than 50 samples\n",
    "- we are predicting a category\n",
    "- we have labeled data\n",
    "- we got less than 100k samples\n",
    "\n",
    "And this leads to Linear SVC (not that the default kernel parameter in sklearn is rbf)\n",
    "\n",
    "Still on the flowchart, for our problem, if we consider the worst case scenarios (SVC doesn't work and then kNN also doesn't), in the chart we end up with Non-linear SVC or Ensemble algorithms.\n",
    "\n",
    "So, my point with all this: I ended up choosing the algorithms for the worst case scenarios in our problem set, but I feel more like it was just luck.\n",
    "\n",
    "<p>&nbsp;</p>\n",
    "<p>&nbsp;</p>\n",
    "<p>&nbsp;</p>\n",
    "So, my chosen algorithms:\n",
    "\n",
    "\n",
    "#### *AdaBoost*\n",
    "\n",
    "** Use case ** - I found an [article](http://www.uni-obuda.hu/journal/Markoski_Ivankovic_Ratgeber_Pecev_Glusac_57.pdf) from Óbuda University in Budapest in which Adaboot was used for a computer vision problem in order to identify basketball players from video.\n",
    "\n",
    "** Strengths ** \n",
    "- makes complex predictions with simple classifiers\n",
    "- it is a margin optimization algorithm, so it tends to not overfit\n",
    "- not so good for noisy data\n",
    "\n",
    "** Weaknesses **\n",
    "- it might need bigger sample sizes for the 'weak learner' condition to hold true\n",
    "\n",
    "\n",
    "<p>&nbsp;</p>\n",
    "#### *Random Forest*\n",
    "\n",
    "** Use case ** - I found some [research](http://www.cse.chalmers.se/edu/year/2011/course/TDA361/Advanced%20Computer%20Graphics/BodyPartRecognition.pdf) about human body part tracking and recognition in real time from Microsoft Research Cambridge & Xbox Incubation\n",
    "\n",
    "** Strengths ** \n",
    "- works well with non linear data\n",
    "- since it is an ensemble method, it is less prone to overfit compared to the Decision Trees algorithm\n",
    "\n",
    "** Weaknesses **\n",
    "- usually slower in the runtime, while predicting\n",
    "\n",
    "\n",
    "<p>&nbsp;</p>\n",
    "#### *Support Vector Machines*\n",
    "** Use case ** - I found [an article](https://www.utdallas.edu/~lkhan/papers/Effective%20Intrusion%20Detection%20Using%20Support%20Vector%20Machines.pdf) in which SVMs are usedd Intrusion Detection and Attack Detection in a network.\n",
    "\n",
    "** Strengths ** \n",
    " - Good for large feature sets\n",
    " - does well even with multi-class classification\n",
    " - since it tries to maximize the margin, it can work as an\n",
    "optimization problem\n",
    "\n",
    "** Weaknesses **\n",
    " - Result can be hard to interpret\n",
    " - predicting performance degrades when support vectors' coefficients get too large\n",
    " - memory intensive\n",
    " - with rbf kernel, it might need a preprocessing of numerical variables in order to normalize them (so that variables with bigger ranges don't over power variables with smaller ranges)\n",
    " \n"
   ]
  },
  {
   "cell_type": "markdown",
   "metadata": {},
   "source": [
    "### Setup\n",
    "Run the code cell below to initialize three helper functions which you can use for training and testing the three supervised learning models you've chosen above. The functions are as follows:\n",
    "- `train_classifier` - takes as input a classifier and training data and fits the classifier to the data.\n",
    "- `predict_labels` - takes as input a fit classifier, features, and a target labeling and makes predictions using the F<sub>1</sub> score.\n",
    "- `train_predict` - takes as input a classifier, and the training and testing data, and performs `train_clasifier` and `predict_labels`.\n",
    " - This function will report the F<sub>1</sub> score for both the training and testing data separately."
   ]
  },
  {
   "cell_type": "code",
   "execution_count": 11,
   "metadata": {
    "collapsed": false
   },
   "outputs": [],
   "source": [
    "\"\"\"\n",
    "I made some changes here in order to be able to retrieve both the times and the results from each function\n",
    "\"\"\"\n",
    "\n",
    "def train_classifier(clf, X_train, y_train):\n",
    "    ''' Fits a classifier to the training data. '''\n",
    "    \n",
    "    # Start the clock, train the classifier, then stop the clock\n",
    "    start = time()\n",
    "    clf.fit(X_train, y_train)\n",
    "    end = time()\n",
    "    \n",
    "    # Print the results\n",
    "    print \"Trained model in {:.4f} seconds\".format(end - start)\n",
    "    return end - start\n",
    "\n",
    "    \n",
    "def predict_labels(clf, features, target):\n",
    "    ''' Makes predictions using a fit classifier based on F1 score. '''\n",
    "    _r = [None, None]\n",
    "    \n",
    "    # Start the clock, make predictions, then stop the clock\n",
    "    start = time()\n",
    "    y_pred = clf.predict(features)\n",
    "    end = time()\n",
    "    \n",
    "    # Print and return results\n",
    "    _r[0] = end - start\n",
    "    _r[1] = f1_score(target.values, y_pred, pos_label='yes')\n",
    "    print \"Made predictions in {:.4f} seconds.\".format(_r[0])\n",
    "    return _r\n",
    "\n",
    "\n",
    "def train_predict(clf, X_train, y_train, X_test, y_test, clfname):\n",
    "    ''' Train and predict using a classifer based on F1 score. '''\n",
    "    _r = [None, None, None, None, None, None, None]\n",
    "    \n",
    "    _r[0] = clfname\n",
    "    _r[1] = len(X_train)\n",
    "    \n",
    "    # Indicate the classifier and the training set size\n",
    "    print \"Training a {} using a training set size of {}. . .\".format(_r[0], _r[1])\n",
    "    \n",
    "    # Train the classifier\n",
    "    _r[2] = train_classifier(clf, X_train, y_train)\n",
    "    \n",
    "    _aux = predict_labels(clf, X_train, y_train)\n",
    "    _r[3] = _aux[0]\n",
    "    _r[4] = _aux[1]\n",
    "    \n",
    "    # Print the results of prediction for both training and testing\n",
    "    print \"F1 score for training set: {:.4f}.\".format(_r[4])\n",
    "    \n",
    "    _aux = predict_labels(clf, X_test, y_test)\n",
    "    _r[5] = _aux[0]\n",
    "    _r[6] = _aux[1]\n",
    "    print \"F1 score for test set: {:.4f}.\".format(_r[6])\n",
    "    return _r\n",
    "    "
   ]
  },
  {
   "cell_type": "markdown",
   "metadata": {},
   "source": [
    "### Implementation: Model Performance Metrics\n",
    "With the predefined functions above, you will now import the three supervised learning models of your choice and run the `train_predict` function for each one. Remember that you will need to train and predict on each classifier for three different training set sizes: 100, 200, and 300. Hence, you should expect to have 9 different outputs below — 3 for each model using the varying training set sizes. In the following code cell, you will need to implement the following:\n",
    "- Import the three supervised learning models you've discussed in the previous section.\n",
    "- Initialize the three models and store them in `clf_A`, `clf_B`, and `clf_C`.\n",
    " - Use a `random_state` for each model you use, if provided.\n",
    " - **Note:** Use the default settings for each model — you will tune one specific model in a later section.\n",
    "- Create the different training set sizes to be used to train each model.\n",
    " - *Do not reshuffle and resplit the data! The new training points should be drawn from `X_train` and `y_train`.*\n",
    "- Fit each model with each training set size and make predictions on the test set (9 in total).  \n",
    "**Note:** Three tables are provided after the following code cell which can be used to store your results."
   ]
  },
  {
   "cell_type": "code",
   "execution_count": 12,
   "metadata": {
    "collapsed": false
   },
   "outputs": [
    {
     "name": "stdout",
     "output_type": "stream",
     "text": [
      "Training a Linear SVC using a training set size of 100. . .\n",
      "Trained model in 0.0103 seconds\n",
      "Made predictions in 0.0009 seconds.\n",
      "F1 score for training set: 0.8939.\n",
      "Made predictions in 0.0008 seconds.\n",
      "F1 score for test set: 0.7879.\n",
      "\n",
      "\n",
      "Training a Linear SVC using a training set size of 200. . .\n",
      "Trained model in 0.0321 seconds\n",
      "Made predictions in 0.0024 seconds.\n",
      "F1 score for training set: 0.8683.\n",
      "Made predictions in 0.0013 seconds.\n",
      "F1 score for test set: 0.7704.\n",
      "\n",
      "\n",
      "Training a Linear SVC using a training set size of 300. . .\n",
      "Trained model in 0.0587 seconds\n",
      "Made predictions in 0.0048 seconds.\n",
      "F1 score for training set: 0.8431.\n",
      "Made predictions in 0.0017 seconds.\n",
      "F1 score for test set: 0.7704.\n",
      "\n",
      "\n",
      "\n",
      "Training a KNeighborsClassifier using a training set size of 100. . .\n",
      "Trained model in 0.0009 seconds\n",
      "Made predictions in 0.0021 seconds.\n",
      "F1 score for training set: 0.7883.\n",
      "Made predictions in 0.0019 seconds.\n",
      "F1 score for test set: 0.7591.\n",
      "\n",
      "\n",
      "Training a KNeighborsClassifier using a training set size of 200. . .\n",
      "Trained model in 0.0009 seconds\n",
      "Made predictions in 0.0050 seconds.\n",
      "F1 score for training set: 0.8542.\n",
      "Made predictions in 0.0028 seconds.\n",
      "F1 score for test set: 0.8028.\n",
      "\n",
      "\n",
      "Training a KNeighborsClassifier using a training set size of 300. . .\n",
      "Trained model in 0.0011 seconds\n",
      "Made predictions in 0.0103 seconds.\n",
      "F1 score for training set: 0.8707.\n",
      "Made predictions in 0.0037 seconds.\n",
      "F1 score for test set: 0.7714.\n",
      "\n",
      "\n",
      "\n",
      "Training a AdaBoostClassifier using a training set size of 100. . .\n",
      "Trained model in 0.1567 seconds\n",
      "Made predictions in 0.0107 seconds.\n",
      "F1 score for training set: 0.9688.\n",
      "Made predictions in 0.0104 seconds.\n",
      "F1 score for test set: 0.7287.\n",
      "\n",
      "\n",
      "Training a AdaBoostClassifier using a training set size of 200. . .\n",
      "Trained model in 0.2373 seconds\n",
      "Made predictions in 0.0123 seconds.\n",
      "F1 score for training set: 0.8930.\n",
      "Made predictions in 0.0104 seconds.\n",
      "F1 score for test set: 0.7681.\n",
      "\n",
      "\n",
      "Training a AdaBoostClassifier using a training set size of 300. . .\n",
      "Trained model in 0.1707 seconds\n",
      "Made predictions in 0.0158 seconds.\n",
      "F1 score for training set: 0.8712.\n",
      "Made predictions in 0.0106 seconds.\n",
      "F1 score for test set: 0.7794.\n",
      "\n",
      "\n",
      "\n",
      "Training a RandomForestClassifier using a training set size of 100. . .\n",
      "Trained model in 0.0347 seconds\n",
      "Made predictions in 0.0018 seconds.\n",
      "F1 score for training set: 1.0000.\n",
      "Made predictions in 0.0017 seconds.\n",
      "F1 score for test set: 0.7939.\n",
      "\n",
      "\n",
      "Training a RandomForestClassifier using a training set size of 200. . .\n",
      "Trained model in 0.0494 seconds\n",
      "Made predictions in 0.0029 seconds.\n",
      "F1 score for training set: 0.9848.\n",
      "Made predictions in 0.0025 seconds.\n",
      "F1 score for test set: 0.7299.\n",
      "\n",
      "\n",
      "Training a RandomForestClassifier using a training set size of 300. . .\n",
      "Trained model in 0.0430 seconds\n",
      "Made predictions in 0.0023 seconds.\n",
      "F1 score for training set: 0.9975.\n",
      "Made predictions in 0.0018 seconds.\n",
      "F1 score for test set: 0.7344.\n",
      "\n",
      "\n",
      "\n",
      "Training a NonLinear SVC using a training set size of 100. . .\n",
      "Trained model in 0.0021 seconds\n",
      "Made predictions in 0.0018 seconds.\n",
      "F1 score for training set: 0.8551.\n",
      "Made predictions in 0.0017 seconds.\n",
      "F1 score for test set: 0.7704.\n",
      "\n",
      "\n",
      "Training a NonLinear SVC using a training set size of 200. . .\n",
      "Trained model in 0.0060 seconds\n",
      "Made predictions in 0.0061 seconds.\n",
      "F1 score for training set: 0.8763.\n",
      "Made predictions in 0.0030 seconds.\n",
      "F1 score for test set: 0.8299.\n",
      "\n",
      "\n",
      "Training a NonLinear SVC using a training set size of 300. . .\n",
      "Trained model in 0.0132 seconds\n",
      "Made predictions in 0.0144 seconds.\n",
      "F1 score for training set: 0.8855.\n",
      "Made predictions in 0.0058 seconds.\n",
      "F1 score for test set: 0.8112.\n",
      "\n",
      "\n",
      "\n"
     ]
    }
   ],
   "source": [
    "from sklearn.ensemble import AdaBoostClassifier\n",
    "from sklearn.ensemble import RandomForestClassifier\n",
    "from sklearn.neighbors import KNeighborsClassifier\n",
    "from sklearn.svm import SVC\n",
    "\n",
    "\n",
    "#Initialize the three models\n",
    "# This time, fixing the random_state=\n",
    "classifiers = [\n",
    "SVC(kernel=\"linear\", random_state=161029)\n",
    ",KNeighborsClassifier()\n",
    ",AdaBoostClassifier(random_state=161029)\n",
    ",RandomForestClassifier(random_state=161029)\n",
    ",SVC(random_state=161029)\n",
    "]\n",
    "\n",
    "clf_names = [\n",
    "\"Linear SVC\"\n",
    ",\"KNeighborsClassifier\"\n",
    ",\"AdaBoostClassifier\"\n",
    ",\"RandomForestClassifier\"\n",
    ",\"NonLinear SVC\"\n",
    "]\n",
    "\n",
    "# Set up the training set sizes\n",
    "train_sizes = np.arange(100, 301, 100)\n",
    "\n",
    "# Execute the 'train_predict' function for each classifier and each training set size\n",
    "results = []\n",
    "\n",
    "for idx_clf, itr_clf in enumerate(classifiers):\n",
    "    for itr_size in train_sizes:\n",
    "        results.append(train_predict(itr_clf, X_train[0:itr_size], y_train[0:itr_size], X_test, y_test, clf_names[idx_clf]))\n",
    "        print \"\"\n",
    "\n",
    "        print \"\"\n",
    "    print \"\""
   ]
  },
  {
   "cell_type": "code",
   "execution_count": 13,
   "metadata": {
    "collapsed": false,
    "scrolled": true
   },
   "outputs": [],
   "source": [
    "df_result = pd.DataFrame(results, columns=[\"classifier\",\"test_size\",\"train_time_t\",\"pred_time_t\",\"f1_train\",\"pred_time_tst\",\"f1_test\"])\n",
    "df_result.to_csv(\"df_result_submission2.csv\", index=False)\n",
    "\n",
    "df_submission1 = pd.read_csv(\"df_result_submission1.csv\")"
   ]
  },
  {
   "cell_type": "markdown",
   "metadata": {},
   "source": [
    "### Tabular Results\n",
    "Edit the cell below to see how a table can be designed in [Markdown](https://github.com/adam-p/markdown-here/wiki/Markdown-Cheatsheet#tables). You can record your results from above in the tables provided."
   ]
  },
  {
   "cell_type": "code",
   "execution_count": 14,
   "metadata": {
    "collapsed": false
   },
   "outputs": [
    {
     "data": {
      "text/markdown": [
       "\n",
       "\n",
       "\n",
       "** Classifer - Linear SVC**  \n",
       "\n",
       "| Training Set Size | Training Time | Prediction Time (test) | F1 Score (train) | F1 Score (test) |\n",
       "| :---------------: | :---------------------: | :--------------------: | :--------------: | :-------------: |\n",
       "| 100 | 0.010303974151611328 | 0.0007908344268798828 | 0.8939393939393939 | 0.787878787878788 |\n",
       "| 200 | 0.03207898139953613 | 0.0012810230255126953 | 0.8683274021352313 | 0.7703703703703704 |\n",
       "| 300 | 0.05872297286987305 | 0.0017240047454833984 | 0.8430913348946136 | 0.7703703703703704 |\n",
       "\n",
       "\n",
       "** Classifer - KNeighborsClassifier**  \n",
       "\n",
       "| Training Set Size | Training Time | Prediction Time (test) | F1 Score (train) | F1 Score (test) |\n",
       "| :---------------: | :---------------------: | :--------------------: | :--------------: | :-------------: |\n",
       "| 100 | 0.0009100437164306641 | 0.0019330978393554688 | 0.7883211678832117 | 0.7591240875912408 |\n",
       "| 200 | 0.0009009838104248047 | 0.0027608871459960938 | 0.8541666666666667 | 0.8028169014084506 |\n",
       "| 300 | 0.001127004623413086 | 0.0037279129028320312 | 0.870748299319728 | 0.7714285714285714 |\n",
       "\n",
       "\n",
       "** Classifer - AdaBoostClassifier**  \n",
       "\n",
       "| Training Set Size | Training Time | Prediction Time (test) | F1 Score (train) | F1 Score (test) |\n",
       "| :---------------: | :---------------------: | :--------------------: | :--------------: | :-------------: |\n",
       "| 100 | 0.15673494338989258 | 0.010375022888183594 | 0.96875 | 0.7286821705426355 |\n",
       "| 200 | 0.23729801177978516 | 0.010390996932983398 | 0.8929889298892989 | 0.7681159420289855 |\n",
       "| 300 | 0.17067885398864746 | 0.010588884353637695 | 0.8711943793911007 | 0.7794117647058824 |\n",
       "\n",
       "\n",
       "** Classifer - RandomForestClassifier**  \n",
       "\n",
       "| Training Set Size | Training Time | Prediction Time (test) | F1 Score (train) | F1 Score (test) |\n",
       "| :---------------: | :---------------------: | :--------------------: | :--------------: | :-------------: |\n",
       "| 100 | 0.034722089767456055 | 0.0017371177673339844 | 1.0 | 0.7938931297709924 |\n",
       "| 200 | 0.04935717582702637 | 0.0025489330291748047 | 0.9848484848484849 | 0.7299270072992701 |\n",
       "| 300 | 0.04296088218688965 | 0.0018360614776611328 | 0.9975186104218362 | 0.734375 |\n",
       "\n",
       "\n",
       "** Classifer - NonLinear SVC**  \n",
       "\n",
       "| Training Set Size | Training Time | Prediction Time (test) | F1 Score (train) | F1 Score (test) |\n",
       "| :---------------: | :---------------------: | :--------------------: | :--------------: | :-------------: |\n",
       "| 100 | 0.0020818710327148438 | 0.0017490386962890625 | 0.8550724637681159 | 0.7703703703703704 |\n",
       "| 200 | 0.005967855453491211 | 0.0030100345611572266 | 0.8762541806020067 | 0.8299319727891157 |\n",
       "| 300 | 0.013170003890991211 | 0.005796909332275391 | 0.8854625550660793 | 0.8111888111888113 |"
      ],
      "text/plain": [
       "<IPython.core.display.Markdown object>"
      ]
     },
     "execution_count": 14,
     "metadata": {},
     "output_type": "execute_result"
    }
   ],
   "source": [
    "Markdown(utilm.dframe_to_markdown(df_result))"
   ]
  },
  {
   "cell_type": "code",
   "execution_count": 15,
   "metadata": {
    "collapsed": false
   },
   "outputs": [
    {
     "data": {
      "text/html": [
       "<div>\n",
       "<table border=\"1\" class=\"dataframe\">\n",
       "  <thead>\n",
       "    <tr style=\"text-align: right;\">\n",
       "      <th></th>\n",
       "      <th>classifier</th>\n",
       "      <th>test_size</th>\n",
       "      <th>train_time_t</th>\n",
       "      <th>pred_time_t</th>\n",
       "      <th>f1_train</th>\n",
       "      <th>pred_time_tst</th>\n",
       "      <th>f1_test</th>\n",
       "    </tr>\n",
       "  </thead>\n",
       "  <tbody>\n",
       "    <tr>\n",
       "      <th>2</th>\n",
       "      <td>AdaBoostClassifier</td>\n",
       "      <td>300</td>\n",
       "      <td>0.171826</td>\n",
       "      <td>0.014948</td>\n",
       "      <td>0.824096</td>\n",
       "      <td>0.010651</td>\n",
       "      <td>0.779412</td>\n",
       "    </tr>\n",
       "    <tr>\n",
       "      <th>5</th>\n",
       "      <td>RandomForestClassifier</td>\n",
       "      <td>300</td>\n",
       "      <td>0.037367</td>\n",
       "      <td>0.002209</td>\n",
       "      <td>0.994898</td>\n",
       "      <td>0.001808</td>\n",
       "      <td>0.712121</td>\n",
       "    </tr>\n",
       "    <tr>\n",
       "      <th>8</th>\n",
       "      <td>SVC</td>\n",
       "      <td>300</td>\n",
       "      <td>0.012786</td>\n",
       "      <td>0.009175</td>\n",
       "      <td>0.860310</td>\n",
       "      <td>0.003067</td>\n",
       "      <td>0.788732</td>\n",
       "    </tr>\n",
       "  </tbody>\n",
       "</table>\n",
       "</div>"
      ],
      "text/plain": [
       "               classifier  test_size  train_time_t  pred_time_t  f1_train  \\\n",
       "2      AdaBoostClassifier        300      0.171826     0.014948  0.824096   \n",
       "5  RandomForestClassifier        300      0.037367     0.002209  0.994898   \n",
       "8                     SVC        300      0.012786     0.009175  0.860310   \n",
       "\n",
       "   pred_time_tst   f1_test  \n",
       "2       0.010651  0.779412  \n",
       "5       0.001808  0.712121  \n",
       "8       0.003067  0.788732  "
      ]
     },
     "execution_count": 15,
     "metadata": {},
     "output_type": "execute_result"
    }
   ],
   "source": [
    "df_submission1[df_submission1[\"test_size\"] == 300]"
   ]
  },
  {
   "cell_type": "code",
   "execution_count": 16,
   "metadata": {
    "collapsed": false,
    "scrolled": false
   },
   "outputs": [
    {
     "data": {
      "image/png": "[encoded data removed]",
      "text/plain": [
       "<matplotlib.figure.Figure at 0x7fd009538550>"
      ]
     },
     "metadata": {},
     "output_type": "display_data"
    }
   ],
   "source": [
    "utilm.render_scores(df_result)"
   ]
  },
  {
   "cell_type": "code",
   "execution_count": 19,
   "metadata": {
    "collapsed": false
   },
   "outputs": [
    {
     "data": {
      "image/png": "[encoded data removed]",
      "text/plain": [
       "<matplotlib.figure.Figure at 0x7fd005d51f90>"
      ]
     },
     "metadata": {},
     "output_type": "display_data"
    },
    {
     "data": {
      "image/png": "[encoded data removed]",
      "text/plain": [
       "<matplotlib.figure.Figure at 0x7fd005cfca50>"
      ]
     },
     "metadata": {},
     "output_type": "display_data"
    }
   ],
   "source": [
    "utilm.render_times(df_result)"
   ]
  },
  {
   "cell_type": "markdown",
   "metadata": {},
   "source": [
    "## Choosing the Best Model\n",
    "In this final section, you will choose from the three supervised learning models the *best* model to use on the student data. You will then perform a grid search optimization for the model over the entire training set (`X_train` and `y_train`) by tuning at least one parameter to improve upon the untuned model's F<sub>1</sub> score. "
   ]
  },
  {
   "cell_type": "markdown",
   "metadata": {},
   "source": [
    "### Question 3 - Choosing the Best Model\n",
    "*Based on the experiments you performed earlier, in one to two paragraphs, explain to the board of supervisors what single model you chose as the best model. Which model is generally the most appropriate based on the available data, limited resources, cost, and performance?*"
   ]
  },
  {
   "cell_type": "markdown",
   "metadata": {},
   "source": [
    "**Answer: ** \n",
    "\n",
    "> As a a folowup to what I stated in my answer to [Question 2](#Question-2---Model-Application), I only added the LinearSVM and kNN for the sake of comparison against the results I had already run for the algorithms I decided to chose. I will not be focusing on each of their results but for the 300 sample size, they had results as good as adaboost and random forests. Although I will keep my reasoning from my first submission and still choose the Adaboost, RandomForest and SVM to discuss.\n",
    "\n",
    "\n",
    "In order to visualize the results I did a bit of changing in the source code so that I could store each train/test iteration in a dataframe so that I could then visualize the train and test lines for each classifier.\n",
    "\n",
    "At a first glance, I would say that our dataset is too small in order for us to provide a well grounded conclusion about the problem. My reasoning for that is because:\n",
    "- all your classifiers seem to be overfitting (some more than others)\n",
    "- across the data splits we don't get to see the neither of the lines undoubtedly converge to any given value in particular.\n",
    "\n",
    "\n",
    "Regarding each model's scores:\n",
    "- **Adaboost** - It looks like the training and testing curves are set to converge sooner that the other two. And even though it is on a declining trend, at sample size 300 it yelds a score close enough to svm's. Adaboost showed the worst performance times.\n",
    "\n",
    "- **Random Forest** - The Random Forest model ended up yielding the worst f1 score in testing. All the training scores were too high (closest to 1) which could indicate overfitting of the model or a case of high variance since it has the biggest gaps between training and testing. It is possible that it could yield more consistent results if we tweaked the hyper parameters before adding more data, but for this question's sake, we will leave that scenario out. I think that in a real world scenario, we wouldn't necessarily try hyper parameter optimisation only with 'THE-ONE' Classifier. And would make sense to at least try comparing our top options at their best.\n",
    "\n",
    "- **SVM** - From the SVM's curve, it looks like the model started to diverge between training and testing a little bit in the 300 data split. Although it yielded better f1-scores across all splits than the rest of the classifiers.\n",
    "\n",
    "\n",
    "All things considered, I will be choosing SVM for our problem. It ended up with the best f1 score during training and is on the \"lower\" side of the prediction times.\n",
    "\n"
   ]
  },
  {
   "cell_type": "markdown",
   "metadata": {},
   "source": [
    "### Question 4 - Model in Layman's Terms\n",
    "*In one to two paragraphs, explain to the board of directors in layman's terms how the final model chosen is supposed to work. Be sure that you are describing the major qualities of the model, such as how the model is trained and how the model makes a prediction. Avoid using advanced mathematical or technical jargon, such as describing equations or discussing the algorithm implementation.*"
   ]
  },
  {
   "cell_type": "markdown",
   "metadata": {},
   "source": [
    "**Answer: **\n",
    "\n",
    "In order to help classify and predict before-hand which students in your institution are more likely to fail to graduate, we have been evaluating the better algorithm to help us in that task.\n",
    "\n",
    "After analysing and running our research and benchmarks on top of the data provided to us, we decided to use the Support Vector Machine algorithm (SVM), which is a supervised learning algorithm to assign a student to one of two graduations outcomes: \"FAIL\" or \"NO FAIL\".\n",
    "What we mean by supervised is that we will be trying to predict the new students' graduation outcomes based on the outcomes observed in some data that we passed to the algorithm before hand.\n",
    "\n",
    "The algorithm will be laying out the data points in a multi dimensional space (in which our dimensions correspond to the fields in the data file that you provided us) and will be trying to find a line that linearly separates all the know data points between FAIL and NO FAIL. In the image below, lets say that the blue dots are NO FAIL students. The algorithm will be trying to come up with a model to define the line in the middle. \n",
    "\n",
    "![](http://www.neuro.sfc.keio.ac.jp/~masato/study/SVM/SVM_1_htm_3a8d932b.gif)\n",
    "\n",
    "It doesn't just find a line to separate our data. It also makes sure that it finds the areas that make that separation with most 'confidence' posible, by trying to maximize the clear margin between all the points and the line itself. For instance, in the picture below, it would choose line A over B.\n",
    "\n",
    "<img src=\"https://upload.wikimedia.org/wikipedia/commons/thumb/f/f2/Svm_intro.svg/2000px-Svm_intro.svg.png\" style=\"width: 200px; height:200px;\"/>\n",
    "\n",
    "\n",
    "Another great advantage of the SVM algorithm, is that, even if the separation is not linear, the algorithm will try to add another dimension that might show some linearly and use it to map a curve into the original multidimensional space. For instance, in the example below, it looks into the 3D space and finds a plane that linearly separate the data and maps it back into a circle in the 2D space.\n",
    "\n",
    "![](http://www.eric-kim.net/eric-kim-net/posts/1/imgs/data_2d_to_3d_hyperplane.png)\n"
   ]
  },
  {
   "cell_type": "markdown",
   "metadata": {},
   "source": [
    "### Implementation: Model Tuning\n",
    "Fine tune the chosen model. Use grid search (`GridSearchCV`) with at least one important parameter tuned with at least 3 different values. You will need to use the entire training set for this. In the code cell below, you will need to implement the following:\n",
    "- Import [`sklearn.grid_search.gridSearchCV`](http://scikit-learn.org/stable/modules/generated/sklearn.grid_search.GridSearchCV.html) and [`sklearn.metrics.make_scorer`](http://scikit-learn.org/stable/modules/generated/sklearn.metrics.make_scorer.html).\n",
    "- Create a dictionary of parameters you wish to tune for the chosen model.\n",
    " - Example: `parameters = {'parameter' : [list of values]}`.\n",
    "- Initialize the classifier you've chosen and store it in `clf`.\n",
    "- Create the F<sub>1</sub> scoring function using `make_scorer` and store it in `f1_scorer`.\n",
    " - Set the `pos_label` parameter to the correct value!\n",
    "- Perform grid search on the classifier `clf` using `f1_scorer` as the scoring method, and store it in `grid_obj`.\n",
    "- Fit the grid search object to the training data (`X_train`, `y_train`), and store it in `grid_obj`."
   ]
  },
  {
   "cell_type": "code",
   "execution_count": 21,
   "metadata": {
    "collapsed": false
   },
   "outputs": [
    {
     "name": "stdout",
     "output_type": "stream",
     "text": [
      "Made predictions in 0.0118 seconds.\n",
      "Tuned model has a training F1 score of 0.8220.\n",
      "Made predictions in 0.0051 seconds.\n",
      "Tuned model has a testing F1 score of 0.8163.\n"
     ]
    }
   ],
   "source": [
    "from sklearn.grid_search import GridSearchCV\n",
    "from sklearn.metrics import f1_score\n",
    "from sklearn.cross_validation import ShuffleSplit\n",
    "from sklearn.metrics import make_scorer\n",
    "\n",
    "\n",
    "def f1_wrapper(X, y):\n",
    "    return f1_score(X, y, pos_label=\"yes\")\n",
    "\n",
    "clf = SVC()\n",
    "parameters = {'kernel': ['rbf','linear'], 'gamma': [1e-3, 1e-4],'C': [1, 10, 100, 1000]}\n",
    "\n",
    "cv_sets = ShuffleSplit(X_train.shape[0], n_iter = 10, test_size = 0.15, random_state=20160927)\n",
    "\n",
    "# Make an f1 scoring function using 'make_scorer' \n",
    "f1_scorer = make_scorer(f1_wrapper)\n",
    "\n",
    "# Perform grid search on the classifier using the f1_scorer as the scoring method\n",
    "grid_obj =  GridSearchCV(clf, parameters, scoring=f1_scorer, cv=cv_sets, n_jobs=4)\n",
    "\n",
    "#Fit the grid search object to the training data and find the optimal parameters\n",
    "grid_obj = grid_obj.fit(X_train, y_train)\n",
    "\n",
    "# Get the estimator\n",
    "clf = grid_obj.best_estimator_\n",
    "\n",
    "# Report the final F1 score for training and testing after parameter tuning\n",
    "print \"Tuned model has a training F1 score of {:.4f}.\".format(predict_labels(clf, X_train, y_train)[1])\n",
    "print \"Tuned model has a testing F1 score of {:.4f}.\".format(predict_labels(clf, X_test, y_test)[1])\n"
   ]
  },
  {
   "cell_type": "markdown",
   "metadata": {},
   "source": [
    "## Question 5 - Final F<sub>1</sub> Score\n",
    "*What is the final model's F<sub>1</sub> score for training and testing? How does that score compare to the untuned model?*"
   ]
  },
  {
   "cell_type": "markdown",
   "metadata": {},
   "source": [
    "**Answer: ** The final F1-Score is 0.8163. It ended up being 0.63 % better than the previous score without hyper parameter tunning."
   ]
  },
  {
   "cell_type": "markdown",
   "metadata": {},
   "source": [
    "> **Note**: Once you have completed all of the code implementations and successfully answered each question above, you may finalize your work by exporting the iPython Notebook as an HTML document. You can do this by using the menu above and navigating to  \n",
    "**File -> Download as -> HTML (.html)**. Include the finished document along with this notebook as your submission."
   ]
  }
 ],
 "metadata": {
  "kernelspec": {
   "display_name": "Python 2",
   "language": "python",
   "name": "python2"
  },
  "language_info": {
   "codemirror_mode": {
    "name": "ipython",
    "version": 2
   },
   "file_extension": ".py",
   "mimetype": "text/x-python",
   "name": "python",
   "nbconvert_exporter": "python",
   "pygments_lexer": "ipython2",
   "version": "2.7.11"
  },
  "widgets": {
   "state": {},
   "version": "1.1.1"
  }
 },
 "nbformat": 4,
 "nbformat_minor": 0
}
